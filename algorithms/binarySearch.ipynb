{
 "cells": [
  {
   "cell_type": "code",
   "execution_count": 1,
   "metadata": {},
   "outputs": [],
   "source": [
    "def binarySearch(arr, key):\n",
    "    '''This function takes in an array and a number (key) as its parameter.\n",
    "    It performs a recursive binary search for the key. If the key is found in the array\n",
    "    it return true else, it returns false.\n",
    "    '''\n",
    "    midIndex = len(arr)//2\n",
    "    midItem = arr[midIndex]\n",
    "    \n",
    "    if midItem == key:\n",
    "        return True\n",
    "    elif (midItem < key and len(arr) > 1):\n",
    "        return binarySearch(arr[0: midIndex], key)\n",
    "    elif (midItem > key and len(arr) > 1):\n",
    "        return binarySearch(arr[midIndex:], key)\n",
    "    return False"
   ]
  },
  {
   "cell_type": "code",
   "execution_count": 2,
   "metadata": {},
   "outputs": [
    {
     "data": {
      "text/plain": [
       "True"
      ]
     },
     "execution_count": 2,
     "metadata": {},
     "output_type": "execute_result"
    }
   ],
   "source": [
    "arr = list(range(51))\n",
    "binarySearch(arr, 25)"
   ]
  },
  {
   "cell_type": "code",
   "execution_count": 3,
   "metadata": {},
   "outputs": [
    {
     "data": {
      "text/plain": [
       "False"
      ]
     },
     "execution_count": 3,
     "metadata": {},
     "output_type": "execute_result"
    }
   ],
   "source": [
    "binarySearch(arr, 60)"
   ]
  },
  {
   "cell_type": "code",
   "execution_count": null,
   "metadata": {},
   "outputs": [],
   "source": []
  }
 ],
 "metadata": {
  "kernelspec": {
   "display_name": "Python 3",
   "language": "python",
   "name": "python3"
  },
  "language_info": {
   "codemirror_mode": {
    "name": "ipython",
    "version": 3
   },
   "file_extension": ".py",
   "mimetype": "text/x-python",
   "name": "python",
   "nbconvert_exporter": "python",
   "pygments_lexer": "ipython3",
   "version": "3.6.3"
  }
 },
 "nbformat": 4,
 "nbformat_minor": 2
}
