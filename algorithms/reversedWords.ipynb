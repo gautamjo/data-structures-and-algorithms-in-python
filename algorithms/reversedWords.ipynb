{
 "cells": [
  {
   "cell_type": "code",
   "execution_count": 1,
   "metadata": {},
   "outputs": [],
   "source": [
    "def reversedWords(string):\n",
    "    '''This function takes in a string as a parameter. \n",
    "    It returns the words of the string in a reversed form. \n",
    "    Only the words in the string is reversed not the string itself. \n",
    "    '''\n",
    "    words = string.split(\" \")\n",
    "    reversedWordsArr = []\n",
    "    for i in words:\n",
    "        reversedWordsArr.append(i[::-1])\n",
    "        \n",
    "    return \" \".join(reversedWordsArr)"
   ]
  },
  {
   "cell_type": "code",
   "execution_count": 2,
   "metadata": {},
   "outputs": [
    {
     "data": {
      "text/plain": [
       "'sihT si a desrever gnirts'"
      ]
     },
     "execution_count": 2,
     "metadata": {},
     "output_type": "execute_result"
    }
   ],
   "source": [
    "string = \"This is a reversed string\"\n",
    "reversedWords(string)"
   ]
  },
  {
   "cell_type": "code",
   "execution_count": null,
   "metadata": {},
   "outputs": [],
   "source": []
  }
 ],
 "metadata": {
  "kernelspec": {
   "display_name": "Python 3",
   "language": "python",
   "name": "python3"
  },
  "language_info": {
   "codemirror_mode": {
    "name": "ipython",
    "version": 3
   },
   "file_extension": ".py",
   "mimetype": "text/x-python",
   "name": "python",
   "nbconvert_exporter": "python",
   "pygments_lexer": "ipython3",
   "version": "3.6.3"
  }
 },
 "nbformat": 4,
 "nbformat_minor": 2
}
