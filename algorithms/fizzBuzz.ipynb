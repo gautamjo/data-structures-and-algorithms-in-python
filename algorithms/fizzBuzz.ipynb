{
 "cells": [
  {
   "cell_type": "code",
   "execution_count": 1,
   "metadata": {},
   "outputs": [],
   "source": [
    "def fizzBuzz(arr):\n",
    "    '''This function takes an array as its parameter.\n",
    "    It print Fizzbuzz if an element of the array is divisible by 15,\n",
    "    Fizz if it divisible by 3 and Buzz if it is divisible by 5.\n",
    "    '''\n",
    "    for i in arr:\n",
    "        if i % 15 == 0:\n",
    "            print(\"FizzBuzz\", i)\n",
    "        elif i % 3 == 0:\n",
    "            print(\"Fizz\", i)\n",
    "        elif i % 5 == 0:\n",
    "            print(\"Buzz\", i)\n",
    "        else:\n",
    "            print(i)"
   ]
  },
  {
   "cell_type": "code",
   "execution_count": 2,
   "metadata": {},
   "outputs": [
    {
     "name": "stdout",
     "output_type": "stream",
     "text": [
      "FizzBuzz 0\n",
      "1\n",
      "2\n",
      "Fizz 3\n",
      "4\n",
      "Buzz 5\n",
      "Fizz 6\n",
      "7\n",
      "8\n",
      "Fizz 9\n",
      "Buzz 10\n",
      "11\n",
      "Fizz 12\n",
      "13\n",
      "14\n",
      "FizzBuzz 15\n",
      "16\n",
      "17\n",
      "Fizz 18\n",
      "19\n",
      "Buzz 20\n"
     ]
    }
   ],
   "source": [
    "arr = list(range(21))\n",
    "fizzBuzz(arr)"
   ]
  },
  {
   "cell_type": "code",
   "execution_count": null,
   "metadata": {},
   "outputs": [],
   "source": []
  }
 ],
 "metadata": {
  "kernelspec": {
   "display_name": "Python 3",
   "language": "python",
   "name": "python3"
  },
  "language_info": {
   "codemirror_mode": {
    "name": "ipython",
    "version": 3
   },
   "file_extension": ".py",
   "mimetype": "text/x-python",
   "name": "python",
   "nbconvert_exporter": "python",
   "pygments_lexer": "ipython3",
   "version": "3.6.3"
  }
 },
 "nbformat": 4,
 "nbformat_minor": 2
}
