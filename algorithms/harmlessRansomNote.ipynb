{
 "cells": [
  {
   "cell_type": "code",
   "execution_count": 1,
   "metadata": {},
   "outputs": [],
   "source": [
    "def harmlessRansomNote(noteText, magazineText):\n",
    "    '''This function takes two strings as parameters. It returns True if all words of string \n",
    "    noteText are present in the string magazineText. Else it returns False. \n",
    "    '''\n",
    "    note = noteText.lower().split(\" \")\n",
    "    magazine = magazineText.lower().split(\" \")\n",
    "    magazineDict = {}\n",
    "    notePossible = True\n",
    "    \n",
    "    for word in magazine:\n",
    "        magazineDict[word] = magazineDict.get(word, 0) + 1\n",
    "    \n",
    "    for word in note:\n",
    "        if word in magazineDict.keys():\n",
    "            magazineDict[word] -= 1\n",
    "            if magazineDict[word] < 0:\n",
    "                notePossible = False\n",
    "        else:\n",
    "            notePossible = False\n",
    "    \n",
    "    return notePossible"
   ]
  },
  {
   "cell_type": "code",
   "execution_count": 2,
   "metadata": {},
   "outputs": [
    {
     "data": {
      "text/plain": [
       "True"
      ]
     },
     "execution_count": 2,
     "metadata": {},
     "output_type": "execute_result"
    }
   ],
   "source": [
    "noteText = \"Is this rough text for tough test\"\n",
    "magazineText = \"This is rough text too. But this rough text is for some tough test of text\"\n",
    "harmlessRansomNote(noteText, magazineText)"
   ]
  },
  {
   "cell_type": "code",
   "execution_count": 3,
   "metadata": {},
   "outputs": [
    {
     "data": {
      "text/plain": [
       "False"
      ]
     },
     "execution_count": 3,
     "metadata": {},
     "output_type": "execute_result"
    }
   ],
   "source": [
    "magazineText = \"This however, is rough text only\"\n",
    "harmlessRansomNote(noteText, magazineText)"
   ]
  },
  {
   "cell_type": "code",
   "execution_count": null,
   "metadata": {},
   "outputs": [],
   "source": []
  }
 ],
 "metadata": {
  "kernelspec": {
   "display_name": "Python 3",
   "language": "python",
   "name": "python3"
  },
  "language_info": {
   "codemirror_mode": {
    "name": "ipython",
    "version": 3
   },
   "file_extension": ".py",
   "mimetype": "text/x-python",
   "name": "python",
   "nbconvert_exporter": "python",
   "pygments_lexer": "ipython3",
   "version": "3.6.3"
  }
 },
 "nbformat": 4,
 "nbformat_minor": 2
}
