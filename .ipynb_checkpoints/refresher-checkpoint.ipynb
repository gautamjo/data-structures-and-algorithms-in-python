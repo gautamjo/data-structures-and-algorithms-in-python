{
 "cells": [
  {
   "cell_type": "code",
   "execution_count": 1,
   "metadata": {},
   "outputs": [],
   "source": [
    "lstA = list(range(1, 4))\n",
    "lstB = list(range(2, 5))\n",
    "# compare two lists and keep only the elements that are present in both\n",
    "lstComp = [i for i in lstA if i in [j for j in lstB]]"
   ]
  },
  {
   "cell_type": "code",
   "execution_count": 2,
   "metadata": {},
   "outputs": [
    {
     "data": {
      "text/plain": [
       "[2, 3]"
      ]
     },
     "execution_count": 2,
     "metadata": {},
     "output_type": "execute_result"
    }
   ],
   "source": [
    "lstComp"
   ]
  },
  {
   "cell_type": "code",
   "execution_count": 12,
   "metadata": {},
   "outputs": [],
   "source": [
    "def twoSum(arr, sum):\n",
    "    '''This function takes an arr and a num as parameters. The num parameter is the sum\n",
    "    that any two numbers in list will produce. The function will return a list of lists.\n",
    "    The inner list will be a pair of numbers that add up to the sum.'''\n",
    "    pairs = []\n",
    "    hashtable = []\n",
    "    \n",
    "    for i in range(len(arr)):\n",
    "        currentNum = arr[i]\n",
    "        difference = sum - currentNum\n",
    "        if difference in hashtable:\n",
    "            pairs.append([currentNum, difference])\n",
    "        else:\n",
    "            hashtable.append(currentNum)\n",
    "    \n",
    "    return pairs"
   ]
  },
  {
   "cell_type": "code",
   "execution_count": 14,
   "metadata": {},
   "outputs": [
    {
     "data": {
      "text/plain": [
       "[[6, 1], [3, 4], [3, 4], [2, 5], [-1, 8]]"
      ]
     },
     "execution_count": 14,
     "metadata": {},
     "output_type": "execute_result"
    }
   ],
   "source": [
    "arr = [1, 6, 4, 3, 5, 3, 2, 8, -1, 11]\n",
    "twoSum(arr, 7)"
   ]
  },
  {
   "cell_type": "code",
   "execution_count": 8,
   "metadata": {},
   "outputs": [],
   "source": []
  },
  {
   "cell_type": "code",
   "execution_count": 43,
   "metadata": {},
   "outputs": [],
   "source": [
    "def isPalindrome(string):\n",
    "    '''This function returns True if the string passed to it as a parameter is a palindrome.\n",
    "    Else it returns False.\n",
    "    '''\n",
    "    string = string.lower()\n",
    "    validCharacter = \"abcdefghijklmnopqrstuvwxyz\"\n",
    "    letterArr = []\n",
    "    for i in string:\n",
    "        if i in validCharacter:\n",
    "            letterArr.append(i)\n",
    "    if \"\".join(letterArr) == \"\".join(letterArr)[::-1]:\n",
    "        return True\n",
    "    return False"
   ]
  },
  {
   "cell_type": "code",
   "execution_count": 46,
   "metadata": {},
   "outputs": [],
   "source": [
    "def reversedArrayInPlace(arr):\n",
    "    for i in range(len(arr)//2):\n",
    "        tempNum = arr[i]\n",
    "        arr[i] = arr[len(arr) - 1 - i]\n",
    "        arr[len(arr) - 1 - i] = tempNum\n",
    "    return arr"
   ]
  },
  {
   "cell_type": "code",
   "execution_count": 48,
   "metadata": {},
   "outputs": [
    {
     "data": {
      "text/plain": [
       "[20, 19, 18, 17, 16, 15, 14, 13, 12, 11, 10, 9, 8, 7, 6, 5, 4, 3, 2, 1, 0]"
      ]
     },
     "execution_count": 48,
     "metadata": {},
     "output_type": "execute_result"
    }
   ],
   "source": [
    "arr = list(range(21))\n",
    "reversedArrayInPlace(arr)"
   ]
  },
  {
   "cell_type": "code",
   "execution_count": 60,
   "metadata": {},
   "outputs": [],
   "source": [
    "def reversedWords(string):\n",
    "    '''This function takes in a string as a parameter. \n",
    "    It returns the words of the string in a reversed form. \n",
    "    Only the words in the string is reversed not the string itself. \n",
    "    '''\n",
    "    words = string.split(\" \")\n",
    "    reversedWordsArr = []\n",
    "    for i in words:\n",
    "        reversedWordsArr.append(i[::-1])\n",
    "        \n",
    "    return \" \".join(reversedWordsArr)"
   ]
  },
  {
   "cell_type": "code",
   "execution_count": 61,
   "metadata": {},
   "outputs": [
    {
     "data": {
      "text/plain": [
       "'sihT si a desrever gnirts'"
      ]
     },
     "execution_count": 61,
     "metadata": {},
     "output_type": "execute_result"
    }
   ],
   "source": [
    "string = \"This is a reversed string\"\n",
    "reversedWords(string)"
   ]
  },
  {
   "cell_type": "code",
   "execution_count": 72,
   "metadata": {},
   "outputs": [],
   "source": [
    "def harmlessRansomNote(noteText, magazineText):\n",
    "    note = noteText.split(\" \")\n",
    "    magazine = magazineText.split(\" \")\n",
    "    magazineDict = {}\n",
    "    notePossible = True\n",
    "    \n",
    "    for word in magazine:\n",
    "        magazineDict[word] = magazineDict.get(word, 0) + 1\n",
    "    \n",
    "    for word in note:\n",
    "        if word in magazineDict.keys():\n",
    "            magazine[word] -= 1\n",
    "            if magazine[word] < 0:\n",
    "                notePossible = False\n",
    "        else:\n",
    "            notePossible = False\n",
    "    \n",
    "    return notePossible"
   ]
  },
  {
   "cell_type": "code",
   "execution_count": 73,
   "metadata": {},
   "outputs": [
    {
     "name": "stdout",
     "output_type": "stream",
     "text": [
      "yes\n",
      "yes\n",
      "yes\n",
      "yes\n"
     ]
    }
   ],
   "source": [
    "harmlessRansomNote(\"this is rough text\", \n",
    "                   \"this is rough text too. but this rough text is for some tough test of text\")"
   ]
  },
  {
   "cell_type": "code",
   "execution_count": null,
   "metadata": {},
   "outputs": [],
   "source": []
  }
 ],
 "metadata": {
  "kernelspec": {
   "display_name": "Python 3",
   "language": "python",
   "name": "python3"
  },
  "language_info": {
   "codemirror_mode": {
    "name": "ipython",
    "version": 3
   },
   "file_extension": ".py",
   "mimetype": "text/x-python",
   "name": "python",
   "nbconvert_exporter": "python",
   "pygments_lexer": "ipython3",
   "version": "3.6.3"
  }
 },
 "nbformat": 4,
 "nbformat_minor": 2
}
